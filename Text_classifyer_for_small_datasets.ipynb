{
  "nbformat": 4,
  "nbformat_minor": 0,
  "metadata": {
    "colab": {
      "name": "Text classifyer for small datasets.ipynb",
      "provenance": [],
      "mount_file_id": "1nv88kdvC9iFh3J_CN4toxwabsts4Xguc",
      "authorship_tag": "ABX9TyNdLzm3s4/dklRXB5qXZaOt",
      "include_colab_link": true
    },
    "kernelspec": {
      "name": "python3",
      "display_name": "Python 3"
    },
    "language_info": {
      "name": "python"
    }
  },
  "cells": [
    {
      "cell_type": "markdown",
      "metadata": {
        "id": "view-in-github",
        "colab_type": "text"
      },
      "source": [
        "<a href=\"https://colab.research.google.com/github/abbddos/AKDN_SEHAR_QR_Code-Generator/blob/main/Text_classifyer_for_small_datasets.ipynb\" target=\"_parent\"><img src=\"https://colab.research.google.com/assets/colab-badge.svg\" alt=\"Open In Colab\"/></a>"
      ]
    },
    {
      "cell_type": "markdown",
      "source": [
        "# Text classification on smaller datasets\n",
        "\n",
        "In humanitarian context, textual dataset are not normally large, they barely reach 200 records and they take very long time to build up. As such, it is necessary to find out whether text classifyers can make accurate predictions out of smaller datasets. \n",
        "\n",
        "To achieve this, and since no MHPSS datasets are available for the moment, the previous dataset from Articles Classifications are used and shaved down to 100 records only.\n",
        "\n",
        "The same methodology as before was used to determine which algorithm makes better and more accurate predictions."
      ],
      "metadata": {
        "id": "eh3Kz0m3ZAlF"
      }
    },
    {
      "cell_type": "code",
      "execution_count": 1,
      "metadata": {
        "colab": {
          "base_uri": "https://localhost:8080/"
        },
        "id": "wnVo8GkdOebM",
        "outputId": "9627c089-0dce-4bc8-bee6-c375f76792a3"
      },
      "outputs": [
        {
          "output_type": "stream",
          "name": "stdout",
          "text": [
            "[nltk_data] Downloading package stopwords to /root/nltk_data...\n",
            "[nltk_data]   Unzipping corpora/stopwords.zip.\n",
            "[nltk_data] Downloading package wordnet to /root/nltk_data...\n",
            "[nltk_data]   Unzipping corpora/wordnet.zip.\n",
            "[nltk_data] Downloading package punkt to /root/nltk_data...\n",
            "[nltk_data]   Unzipping tokenizers/punkt.zip.\n"
          ]
        }
      ],
      "source": [
        "#Basic data analysis libraries...\n",
        "import pandas as pd\n",
        "import numpy as np\n",
        "import matplotlib.pyplot as plt\n",
        "import seaborn as sns\n",
        "import re\n",
        "import nltk\n",
        "\n",
        "#Required Natural Langauge libraries...\n",
        "from nltk.corpus import stopwords\n",
        "nltk.download('stopwords')\n",
        "from nltk.stem import PorterStemmer\n",
        "from nltk.stem import WordNetLemmatizer\n",
        "nltk.download('wordnet')\n",
        "from nltk.tokenize import word_tokenize\n",
        "from nltk.tokenize import sent_tokenize\n",
        "nltk.download('punkt')\n",
        "from wordcloud import WordCloud\n",
        "\n",
        "#Required ML libraries and packages...\n",
        "from sklearn.feature_extraction.text import CountVectorizer\n",
        "from sklearn.feature_extraction.text import TfidfVectorizer\n",
        "from sklearn.model_selection import train_test_split\n",
        "from sklearn.metrics import accuracy_score\n",
        "from sklearn.metrics import confusion_matrix\n",
        "from sklearn.metrics import classification_report\n",
        "from sklearn.metrics import make_scorer, roc_curve, roc_auc_score\n",
        "from sklearn.metrics import precision_recall_fscore_support as score\n",
        "from sklearn.metrics.pairwise import cosine_similarity\n",
        "from sklearn.multiclass import OneVsRestClassifier\n",
        "from sklearn.linear_model import LogisticRegression\n",
        "from sklearn.svm import SVC, LinearSVC\n",
        "from sklearn.tree import DecisionTreeClassifier\n",
        "from sklearn.ensemble import RandomForestClassifier\n",
        "from sklearn.neighbors import KNeighborsClassifier\n",
        "from sklearn.naive_bayes import GaussianNB,MultinomialNB,BernoulliNB"
      ]
    },
    {
      "cell_type": "code",
      "source": [
        "# Importing dataset...\n",
        "\n",
        "df = pd.read_csv('/content/drive/MyDrive/Colab Notebooks/BBC News Train.csv')\n",
        "df.head()"
      ],
      "metadata": {
        "colab": {
          "base_uri": "https://localhost:8080/",
          "height": 206
        },
        "id": "JUYrLBTXOil-",
        "outputId": "b03ad5f0-8075-4718-d6b7-d1de27b687f5"
      },
      "execution_count": 4,
      "outputs": [
        {
          "output_type": "execute_result",
          "data": {
            "text/html": [
              "\n",
              "  <div id=\"df-e313f363-5019-40ec-8c91-3ebd4c9d3d50\">\n",
              "    <div class=\"colab-df-container\">\n",
              "      <div>\n",
              "<style scoped>\n",
              "    .dataframe tbody tr th:only-of-type {\n",
              "        vertical-align: middle;\n",
              "    }\n",
              "\n",
              "    .dataframe tbody tr th {\n",
              "        vertical-align: top;\n",
              "    }\n",
              "\n",
              "    .dataframe thead th {\n",
              "        text-align: right;\n",
              "    }\n",
              "</style>\n",
              "<table border=\"1\" class=\"dataframe\">\n",
              "  <thead>\n",
              "    <tr style=\"text-align: right;\">\n",
              "      <th></th>\n",
              "      <th>ArticleId</th>\n",
              "      <th>Text</th>\n",
              "      <th>Category</th>\n",
              "    </tr>\n",
              "  </thead>\n",
              "  <tbody>\n",
              "    <tr>\n",
              "      <th>0</th>\n",
              "      <td>1833</td>\n",
              "      <td>worldcom ex-boss launches defence lawyers defe...</td>\n",
              "      <td>business</td>\n",
              "    </tr>\n",
              "    <tr>\n",
              "      <th>1</th>\n",
              "      <td>154</td>\n",
              "      <td>german business confidence slides german busin...</td>\n",
              "      <td>business</td>\n",
              "    </tr>\n",
              "    <tr>\n",
              "      <th>2</th>\n",
              "      <td>1101</td>\n",
              "      <td>bbc poll indicates economic gloom citizens in ...</td>\n",
              "      <td>business</td>\n",
              "    </tr>\n",
              "    <tr>\n",
              "      <th>3</th>\n",
              "      <td>1976</td>\n",
              "      <td>lifestyle  governs mobile choice  faster  bett...</td>\n",
              "      <td>tech</td>\n",
              "    </tr>\n",
              "    <tr>\n",
              "      <th>4</th>\n",
              "      <td>917</td>\n",
              "      <td>enron bosses in $168m payout eighteen former e...</td>\n",
              "      <td>business</td>\n",
              "    </tr>\n",
              "  </tbody>\n",
              "</table>\n",
              "</div>\n",
              "      <button class=\"colab-df-convert\" onclick=\"convertToInteractive('df-e313f363-5019-40ec-8c91-3ebd4c9d3d50')\"\n",
              "              title=\"Convert this dataframe to an interactive table.\"\n",
              "              style=\"display:none;\">\n",
              "        \n",
              "  <svg xmlns=\"http://www.w3.org/2000/svg\" height=\"24px\"viewBox=\"0 0 24 24\"\n",
              "       width=\"24px\">\n",
              "    <path d=\"M0 0h24v24H0V0z\" fill=\"none\"/>\n",
              "    <path d=\"M18.56 5.44l.94 2.06.94-2.06 2.06-.94-2.06-.94-.94-2.06-.94 2.06-2.06.94zm-11 1L8.5 8.5l.94-2.06 2.06-.94-2.06-.94L8.5 2.5l-.94 2.06-2.06.94zm10 10l.94 2.06.94-2.06 2.06-.94-2.06-.94-.94-2.06-.94 2.06-2.06.94z\"/><path d=\"M17.41 7.96l-1.37-1.37c-.4-.4-.92-.59-1.43-.59-.52 0-1.04.2-1.43.59L10.3 9.45l-7.72 7.72c-.78.78-.78 2.05 0 2.83L4 21.41c.39.39.9.59 1.41.59.51 0 1.02-.2 1.41-.59l7.78-7.78 2.81-2.81c.8-.78.8-2.07 0-2.86zM5.41 20L4 18.59l7.72-7.72 1.47 1.35L5.41 20z\"/>\n",
              "  </svg>\n",
              "      </button>\n",
              "      \n",
              "  <style>\n",
              "    .colab-df-container {\n",
              "      display:flex;\n",
              "      flex-wrap:wrap;\n",
              "      gap: 12px;\n",
              "    }\n",
              "\n",
              "    .colab-df-convert {\n",
              "      background-color: #E8F0FE;\n",
              "      border: none;\n",
              "      border-radius: 50%;\n",
              "      cursor: pointer;\n",
              "      display: none;\n",
              "      fill: #1967D2;\n",
              "      height: 32px;\n",
              "      padding: 0 0 0 0;\n",
              "      width: 32px;\n",
              "    }\n",
              "\n",
              "    .colab-df-convert:hover {\n",
              "      background-color: #E2EBFA;\n",
              "      box-shadow: 0px 1px 2px rgba(60, 64, 67, 0.3), 0px 1px 3px 1px rgba(60, 64, 67, 0.15);\n",
              "      fill: #174EA6;\n",
              "    }\n",
              "\n",
              "    [theme=dark] .colab-df-convert {\n",
              "      background-color: #3B4455;\n",
              "      fill: #D2E3FC;\n",
              "    }\n",
              "\n",
              "    [theme=dark] .colab-df-convert:hover {\n",
              "      background-color: #434B5C;\n",
              "      box-shadow: 0px 1px 3px 1px rgba(0, 0, 0, 0.15);\n",
              "      filter: drop-shadow(0px 1px 2px rgba(0, 0, 0, 0.3));\n",
              "      fill: #FFFFFF;\n",
              "    }\n",
              "  </style>\n",
              "\n",
              "      <script>\n",
              "        const buttonEl =\n",
              "          document.querySelector('#df-e313f363-5019-40ec-8c91-3ebd4c9d3d50 button.colab-df-convert');\n",
              "        buttonEl.style.display =\n",
              "          google.colab.kernel.accessAllowed ? 'block' : 'none';\n",
              "\n",
              "        async function convertToInteractive(key) {\n",
              "          const element = document.querySelector('#df-e313f363-5019-40ec-8c91-3ebd4c9d3d50');\n",
              "          const dataTable =\n",
              "            await google.colab.kernel.invokeFunction('convertToInteractive',\n",
              "                                                     [key], {});\n",
              "          if (!dataTable) return;\n",
              "\n",
              "          const docLinkHtml = 'Like what you see? Visit the ' +\n",
              "            '<a target=\"_blank\" href=https://colab.research.google.com/notebooks/data_table.ipynb>data table notebook</a>'\n",
              "            + ' to learn more about interactive tables.';\n",
              "          element.innerHTML = '';\n",
              "          dataTable['output_type'] = 'display_data';\n",
              "          await google.colab.output.renderOutput(dataTable, element);\n",
              "          const docLink = document.createElement('div');\n",
              "          docLink.innerHTML = docLinkHtml;\n",
              "          element.appendChild(docLink);\n",
              "        }\n",
              "      </script>\n",
              "    </div>\n",
              "  </div>\n",
              "  "
            ],
            "text/plain": [
              "   ArticleId                                               Text  Category\n",
              "0       1833  worldcom ex-boss launches defence lawyers defe...  business\n",
              "1        154  german business confidence slides german busin...  business\n",
              "2       1101  bbc poll indicates economic gloom citizens in ...  business\n",
              "3       1976  lifestyle  governs mobile choice  faster  bett...      tech\n",
              "4        917  enron bosses in $168m payout eighteen former e...  business"
            ]
          },
          "metadata": {},
          "execution_count": 4
        }
      ]
    },
    {
      "cell_type": "code",
      "source": [
        "df.shape"
      ],
      "metadata": {
        "colab": {
          "base_uri": "https://localhost:8080/"
        },
        "id": "0iI9ZT9HOuFP",
        "outputId": "6947225d-c6a5-45db-974c-ee54ac2ed430"
      },
      "execution_count": 5,
      "outputs": [
        {
          "output_type": "execute_result",
          "data": {
            "text/plain": [
              "(1490, 3)"
            ]
          },
          "metadata": {},
          "execution_count": 5
        }
      ]
    },
    {
      "cell_type": "code",
      "source": [
        "# Shrinking dataset to 100 records.\n",
        "\n",
        "dataset = df.sample(n=100, random_state=1)\n",
        "dataset.head()"
      ],
      "metadata": {
        "colab": {
          "base_uri": "https://localhost:8080/",
          "height": 206
        },
        "id": "5eJtQTnoOwko",
        "outputId": "6fba663b-bbf3-49fb-9eea-e6e4202a13b0"
      },
      "execution_count": 67,
      "outputs": [
        {
          "output_type": "execute_result",
          "data": {
            "text/html": [
              "\n",
              "  <div id=\"df-3ee4082c-837e-4923-b5c2-06259247fb80\">\n",
              "    <div class=\"colab-df-container\">\n",
              "      <div>\n",
              "<style scoped>\n",
              "    .dataframe tbody tr th:only-of-type {\n",
              "        vertical-align: middle;\n",
              "    }\n",
              "\n",
              "    .dataframe tbody tr th {\n",
              "        vertical-align: top;\n",
              "    }\n",
              "\n",
              "    .dataframe thead th {\n",
              "        text-align: right;\n",
              "    }\n",
              "</style>\n",
              "<table border=\"1\" class=\"dataframe\">\n",
              "  <thead>\n",
              "    <tr style=\"text-align: right;\">\n",
              "      <th></th>\n",
              "      <th>ArticleId</th>\n",
              "      <th>Text</th>\n",
              "      <th>Category</th>\n",
              "    </tr>\n",
              "  </thead>\n",
              "  <tbody>\n",
              "    <tr>\n",
              "      <th>91</th>\n",
              "      <td>1756</td>\n",
              "      <td>2d metal slug offers retro fun like some drill...</td>\n",
              "      <td>tech</td>\n",
              "    </tr>\n",
              "    <tr>\n",
              "      <th>1103</th>\n",
              "      <td>1108</td>\n",
              "      <td>blair stresses prosperity goals tony blair say...</td>\n",
              "      <td>politics</td>\n",
              "    </tr>\n",
              "    <tr>\n",
              "      <th>909</th>\n",
              "      <td>1955</td>\n",
              "      <td>weak dollar trims cadbury profits the world s ...</td>\n",
              "      <td>business</td>\n",
              "    </tr>\n",
              "    <tr>\n",
              "      <th>683</th>\n",
              "      <td>63</td>\n",
              "      <td>court rejects $280bn tobacco case a us governm...</td>\n",
              "      <td>business</td>\n",
              "    </tr>\n",
              "    <tr>\n",
              "      <th>561</th>\n",
              "      <td>293</td>\n",
              "      <td>christmas song formula  unveiled a formula for...</td>\n",
              "      <td>entertainment</td>\n",
              "    </tr>\n",
              "  </tbody>\n",
              "</table>\n",
              "</div>\n",
              "      <button class=\"colab-df-convert\" onclick=\"convertToInteractive('df-3ee4082c-837e-4923-b5c2-06259247fb80')\"\n",
              "              title=\"Convert this dataframe to an interactive table.\"\n",
              "              style=\"display:none;\">\n",
              "        \n",
              "  <svg xmlns=\"http://www.w3.org/2000/svg\" height=\"24px\"viewBox=\"0 0 24 24\"\n",
              "       width=\"24px\">\n",
              "    <path d=\"M0 0h24v24H0V0z\" fill=\"none\"/>\n",
              "    <path d=\"M18.56 5.44l.94 2.06.94-2.06 2.06-.94-2.06-.94-.94-2.06-.94 2.06-2.06.94zm-11 1L8.5 8.5l.94-2.06 2.06-.94-2.06-.94L8.5 2.5l-.94 2.06-2.06.94zm10 10l.94 2.06.94-2.06 2.06-.94-2.06-.94-.94-2.06-.94 2.06-2.06.94z\"/><path d=\"M17.41 7.96l-1.37-1.37c-.4-.4-.92-.59-1.43-.59-.52 0-1.04.2-1.43.59L10.3 9.45l-7.72 7.72c-.78.78-.78 2.05 0 2.83L4 21.41c.39.39.9.59 1.41.59.51 0 1.02-.2 1.41-.59l7.78-7.78 2.81-2.81c.8-.78.8-2.07 0-2.86zM5.41 20L4 18.59l7.72-7.72 1.47 1.35L5.41 20z\"/>\n",
              "  </svg>\n",
              "      </button>\n",
              "      \n",
              "  <style>\n",
              "    .colab-df-container {\n",
              "      display:flex;\n",
              "      flex-wrap:wrap;\n",
              "      gap: 12px;\n",
              "    }\n",
              "\n",
              "    .colab-df-convert {\n",
              "      background-color: #E8F0FE;\n",
              "      border: none;\n",
              "      border-radius: 50%;\n",
              "      cursor: pointer;\n",
              "      display: none;\n",
              "      fill: #1967D2;\n",
              "      height: 32px;\n",
              "      padding: 0 0 0 0;\n",
              "      width: 32px;\n",
              "    }\n",
              "\n",
              "    .colab-df-convert:hover {\n",
              "      background-color: #E2EBFA;\n",
              "      box-shadow: 0px 1px 2px rgba(60, 64, 67, 0.3), 0px 1px 3px 1px rgba(60, 64, 67, 0.15);\n",
              "      fill: #174EA6;\n",
              "    }\n",
              "\n",
              "    [theme=dark] .colab-df-convert {\n",
              "      background-color: #3B4455;\n",
              "      fill: #D2E3FC;\n",
              "    }\n",
              "\n",
              "    [theme=dark] .colab-df-convert:hover {\n",
              "      background-color: #434B5C;\n",
              "      box-shadow: 0px 1px 3px 1px rgba(0, 0, 0, 0.15);\n",
              "      filter: drop-shadow(0px 1px 2px rgba(0, 0, 0, 0.3));\n",
              "      fill: #FFFFFF;\n",
              "    }\n",
              "  </style>\n",
              "\n",
              "      <script>\n",
              "        const buttonEl =\n",
              "          document.querySelector('#df-3ee4082c-837e-4923-b5c2-06259247fb80 button.colab-df-convert');\n",
              "        buttonEl.style.display =\n",
              "          google.colab.kernel.accessAllowed ? 'block' : 'none';\n",
              "\n",
              "        async function convertToInteractive(key) {\n",
              "          const element = document.querySelector('#df-3ee4082c-837e-4923-b5c2-06259247fb80');\n",
              "          const dataTable =\n",
              "            await google.colab.kernel.invokeFunction('convertToInteractive',\n",
              "                                                     [key], {});\n",
              "          if (!dataTable) return;\n",
              "\n",
              "          const docLinkHtml = 'Like what you see? Visit the ' +\n",
              "            '<a target=\"_blank\" href=https://colab.research.google.com/notebooks/data_table.ipynb>data table notebook</a>'\n",
              "            + ' to learn more about interactive tables.';\n",
              "          element.innerHTML = '';\n",
              "          dataTable['output_type'] = 'display_data';\n",
              "          await google.colab.output.renderOutput(dataTable, element);\n",
              "          const docLink = document.createElement('div');\n",
              "          docLink.innerHTML = docLinkHtml;\n",
              "          element.appendChild(docLink);\n",
              "        }\n",
              "      </script>\n",
              "    </div>\n",
              "  </div>\n",
              "  "
            ],
            "text/plain": [
              "      ArticleId  ...       Category\n",
              "91         1756  ...           tech\n",
              "1103       1108  ...       politics\n",
              "909        1955  ...       business\n",
              "683          63  ...       business\n",
              "561         293  ...  entertainment\n",
              "\n",
              "[5 rows x 3 columns]"
            ]
          },
          "metadata": {},
          "execution_count": 67
        }
      ]
    },
    {
      "cell_type": "code",
      "source": [
        "dataset.shape"
      ],
      "metadata": {
        "colab": {
          "base_uri": "https://localhost:8080/"
        },
        "id": "rJ6L4MgcPQ62",
        "outputId": "e40ca731-359d-4875-cd2d-b1afac9519c7"
      },
      "execution_count": 7,
      "outputs": [
        {
          "output_type": "execute_result",
          "data": {
            "text/plain": [
              "(100, 3)"
            ]
          },
          "metadata": {},
          "execution_count": 7
        }
      ]
    },
    {
      "cell_type": "code",
      "source": [
        "dataset['Category'].value_counts()"
      ],
      "metadata": {
        "colab": {
          "base_uri": "https://localhost:8080/"
        },
        "id": "bKCI6KRwPS6o",
        "outputId": "1c469458-e9d4-4e59-dc81-fcc720652fc5"
      },
      "execution_count": 68,
      "outputs": [
        {
          "output_type": "execute_result",
          "data": {
            "text/plain": [
              "sport            23\n",
              "politics         21\n",
              "business         20\n",
              "tech             18\n",
              "entertainment    18\n",
              "Name: Category, dtype: int64"
            ]
          },
          "metadata": {},
          "execution_count": 68
        }
      ]
    },
    {
      "cell_type": "code",
      "source": [
        "# Step 1. Assignment of numeric values to categories.\n",
        "\n",
        "dataset['CategoryID'] = dataset['Category'].factorize()[0]\n",
        "dataset.head()"
      ],
      "metadata": {
        "colab": {
          "base_uri": "https://localhost:8080/",
          "height": 206
        },
        "id": "MG8WEml0PZvq",
        "outputId": "4e1f2dd5-c337-4144-ae8f-b392a70c6dc5"
      },
      "execution_count": 71,
      "outputs": [
        {
          "output_type": "execute_result",
          "data": {
            "text/html": [
              "\n",
              "  <div id=\"df-5786a01d-daa3-45b8-9df2-46eeb73df411\">\n",
              "    <div class=\"colab-df-container\">\n",
              "      <div>\n",
              "<style scoped>\n",
              "    .dataframe tbody tr th:only-of-type {\n",
              "        vertical-align: middle;\n",
              "    }\n",
              "\n",
              "    .dataframe tbody tr th {\n",
              "        vertical-align: top;\n",
              "    }\n",
              "\n",
              "    .dataframe thead th {\n",
              "        text-align: right;\n",
              "    }\n",
              "</style>\n",
              "<table border=\"1\" class=\"dataframe\">\n",
              "  <thead>\n",
              "    <tr style=\"text-align: right;\">\n",
              "      <th></th>\n",
              "      <th>ArticleId</th>\n",
              "      <th>Text</th>\n",
              "      <th>Category</th>\n",
              "      <th>CategoryID</th>\n",
              "    </tr>\n",
              "  </thead>\n",
              "  <tbody>\n",
              "    <tr>\n",
              "      <th>91</th>\n",
              "      <td>1756</td>\n",
              "      <td>2d metal slug offers retro fun like some drill...</td>\n",
              "      <td>tech</td>\n",
              "      <td>0</td>\n",
              "    </tr>\n",
              "    <tr>\n",
              "      <th>1103</th>\n",
              "      <td>1108</td>\n",
              "      <td>blair stresses prosperity goals tony blair say...</td>\n",
              "      <td>politics</td>\n",
              "      <td>1</td>\n",
              "    </tr>\n",
              "    <tr>\n",
              "      <th>909</th>\n",
              "      <td>1955</td>\n",
              "      <td>weak dollar trims cadbury profits the world s ...</td>\n",
              "      <td>business</td>\n",
              "      <td>2</td>\n",
              "    </tr>\n",
              "    <tr>\n",
              "      <th>683</th>\n",
              "      <td>63</td>\n",
              "      <td>court rejects $280bn tobacco case a us governm...</td>\n",
              "      <td>business</td>\n",
              "      <td>2</td>\n",
              "    </tr>\n",
              "    <tr>\n",
              "      <th>561</th>\n",
              "      <td>293</td>\n",
              "      <td>christmas song formula  unveiled a formula for...</td>\n",
              "      <td>entertainment</td>\n",
              "      <td>3</td>\n",
              "    </tr>\n",
              "  </tbody>\n",
              "</table>\n",
              "</div>\n",
              "      <button class=\"colab-df-convert\" onclick=\"convertToInteractive('df-5786a01d-daa3-45b8-9df2-46eeb73df411')\"\n",
              "              title=\"Convert this dataframe to an interactive table.\"\n",
              "              style=\"display:none;\">\n",
              "        \n",
              "  <svg xmlns=\"http://www.w3.org/2000/svg\" height=\"24px\"viewBox=\"0 0 24 24\"\n",
              "       width=\"24px\">\n",
              "    <path d=\"M0 0h24v24H0V0z\" fill=\"none\"/>\n",
              "    <path d=\"M18.56 5.44l.94 2.06.94-2.06 2.06-.94-2.06-.94-.94-2.06-.94 2.06-2.06.94zm-11 1L8.5 8.5l.94-2.06 2.06-.94-2.06-.94L8.5 2.5l-.94 2.06-2.06.94zm10 10l.94 2.06.94-2.06 2.06-.94-2.06-.94-.94-2.06-.94 2.06-2.06.94z\"/><path d=\"M17.41 7.96l-1.37-1.37c-.4-.4-.92-.59-1.43-.59-.52 0-1.04.2-1.43.59L10.3 9.45l-7.72 7.72c-.78.78-.78 2.05 0 2.83L4 21.41c.39.39.9.59 1.41.59.51 0 1.02-.2 1.41-.59l7.78-7.78 2.81-2.81c.8-.78.8-2.07 0-2.86zM5.41 20L4 18.59l7.72-7.72 1.47 1.35L5.41 20z\"/>\n",
              "  </svg>\n",
              "      </button>\n",
              "      \n",
              "  <style>\n",
              "    .colab-df-container {\n",
              "      display:flex;\n",
              "      flex-wrap:wrap;\n",
              "      gap: 12px;\n",
              "    }\n",
              "\n",
              "    .colab-df-convert {\n",
              "      background-color: #E8F0FE;\n",
              "      border: none;\n",
              "      border-radius: 50%;\n",
              "      cursor: pointer;\n",
              "      display: none;\n",
              "      fill: #1967D2;\n",
              "      height: 32px;\n",
              "      padding: 0 0 0 0;\n",
              "      width: 32px;\n",
              "    }\n",
              "\n",
              "    .colab-df-convert:hover {\n",
              "      background-color: #E2EBFA;\n",
              "      box-shadow: 0px 1px 2px rgba(60, 64, 67, 0.3), 0px 1px 3px 1px rgba(60, 64, 67, 0.15);\n",
              "      fill: #174EA6;\n",
              "    }\n",
              "\n",
              "    [theme=dark] .colab-df-convert {\n",
              "      background-color: #3B4455;\n",
              "      fill: #D2E3FC;\n",
              "    }\n",
              "\n",
              "    [theme=dark] .colab-df-convert:hover {\n",
              "      background-color: #434B5C;\n",
              "      box-shadow: 0px 1px 3px 1px rgba(0, 0, 0, 0.15);\n",
              "      filter: drop-shadow(0px 1px 2px rgba(0, 0, 0, 0.3));\n",
              "      fill: #FFFFFF;\n",
              "    }\n",
              "  </style>\n",
              "\n",
              "      <script>\n",
              "        const buttonEl =\n",
              "          document.querySelector('#df-5786a01d-daa3-45b8-9df2-46eeb73df411 button.colab-df-convert');\n",
              "        buttonEl.style.display =\n",
              "          google.colab.kernel.accessAllowed ? 'block' : 'none';\n",
              "\n",
              "        async function convertToInteractive(key) {\n",
              "          const element = document.querySelector('#df-5786a01d-daa3-45b8-9df2-46eeb73df411');\n",
              "          const dataTable =\n",
              "            await google.colab.kernel.invokeFunction('convertToInteractive',\n",
              "                                                     [key], {});\n",
              "          if (!dataTable) return;\n",
              "\n",
              "          const docLinkHtml = 'Like what you see? Visit the ' +\n",
              "            '<a target=\"_blank\" href=https://colab.research.google.com/notebooks/data_table.ipynb>data table notebook</a>'\n",
              "            + ' to learn more about interactive tables.';\n",
              "          element.innerHTML = '';\n",
              "          dataTable['output_type'] = 'display_data';\n",
              "          await google.colab.output.renderOutput(dataTable, element);\n",
              "          const docLink = document.createElement('div');\n",
              "          docLink.innerHTML = docLinkHtml;\n",
              "          element.appendChild(docLink);\n",
              "        }\n",
              "      </script>\n",
              "    </div>\n",
              "  </div>\n",
              "  "
            ],
            "text/plain": [
              "      ArticleId  ... CategoryID\n",
              "91         1756  ...          0\n",
              "1103       1108  ...          1\n",
              "909        1955  ...          2\n",
              "683          63  ...          2\n",
              "561         293  ...          3\n",
              "\n",
              "[5 rows x 4 columns]"
            ]
          },
          "metadata": {},
          "execution_count": 71
        }
      ]
    },
    {
      "cell_type": "code",
      "source": [
        "category = dataset[['Category', 'CategoryID']].drop_duplicates().sort_values('CategoryID')\n",
        "category"
      ],
      "metadata": {
        "colab": {
          "base_uri": "https://localhost:8080/",
          "height": 206
        },
        "id": "fA9B_N7TPeZL",
        "outputId": "5c99d502-43c0-4596-b865-341302939591"
      },
      "execution_count": 72,
      "outputs": [
        {
          "output_type": "execute_result",
          "data": {
            "text/html": [
              "\n",
              "  <div id=\"df-95e369c1-de58-4dfb-a853-aa2846fa2176\">\n",
              "    <div class=\"colab-df-container\">\n",
              "      <div>\n",
              "<style scoped>\n",
              "    .dataframe tbody tr th:only-of-type {\n",
              "        vertical-align: middle;\n",
              "    }\n",
              "\n",
              "    .dataframe tbody tr th {\n",
              "        vertical-align: top;\n",
              "    }\n",
              "\n",
              "    .dataframe thead th {\n",
              "        text-align: right;\n",
              "    }\n",
              "</style>\n",
              "<table border=\"1\" class=\"dataframe\">\n",
              "  <thead>\n",
              "    <tr style=\"text-align: right;\">\n",
              "      <th></th>\n",
              "      <th>Category</th>\n",
              "      <th>CategoryID</th>\n",
              "    </tr>\n",
              "  </thead>\n",
              "  <tbody>\n",
              "    <tr>\n",
              "      <th>91</th>\n",
              "      <td>tech</td>\n",
              "      <td>0</td>\n",
              "    </tr>\n",
              "    <tr>\n",
              "      <th>1103</th>\n",
              "      <td>politics</td>\n",
              "      <td>1</td>\n",
              "    </tr>\n",
              "    <tr>\n",
              "      <th>909</th>\n",
              "      <td>business</td>\n",
              "      <td>2</td>\n",
              "    </tr>\n",
              "    <tr>\n",
              "      <th>561</th>\n",
              "      <td>entertainment</td>\n",
              "      <td>3</td>\n",
              "    </tr>\n",
              "    <tr>\n",
              "      <th>980</th>\n",
              "      <td>sport</td>\n",
              "      <td>4</td>\n",
              "    </tr>\n",
              "  </tbody>\n",
              "</table>\n",
              "</div>\n",
              "      <button class=\"colab-df-convert\" onclick=\"convertToInteractive('df-95e369c1-de58-4dfb-a853-aa2846fa2176')\"\n",
              "              title=\"Convert this dataframe to an interactive table.\"\n",
              "              style=\"display:none;\">\n",
              "        \n",
              "  <svg xmlns=\"http://www.w3.org/2000/svg\" height=\"24px\"viewBox=\"0 0 24 24\"\n",
              "       width=\"24px\">\n",
              "    <path d=\"M0 0h24v24H0V0z\" fill=\"none\"/>\n",
              "    <path d=\"M18.56 5.44l.94 2.06.94-2.06 2.06-.94-2.06-.94-.94-2.06-.94 2.06-2.06.94zm-11 1L8.5 8.5l.94-2.06 2.06-.94-2.06-.94L8.5 2.5l-.94 2.06-2.06.94zm10 10l.94 2.06.94-2.06 2.06-.94-2.06-.94-.94-2.06-.94 2.06-2.06.94z\"/><path d=\"M17.41 7.96l-1.37-1.37c-.4-.4-.92-.59-1.43-.59-.52 0-1.04.2-1.43.59L10.3 9.45l-7.72 7.72c-.78.78-.78 2.05 0 2.83L4 21.41c.39.39.9.59 1.41.59.51 0 1.02-.2 1.41-.59l7.78-7.78 2.81-2.81c.8-.78.8-2.07 0-2.86zM5.41 20L4 18.59l7.72-7.72 1.47 1.35L5.41 20z\"/>\n",
              "  </svg>\n",
              "      </button>\n",
              "      \n",
              "  <style>\n",
              "    .colab-df-container {\n",
              "      display:flex;\n",
              "      flex-wrap:wrap;\n",
              "      gap: 12px;\n",
              "    }\n",
              "\n",
              "    .colab-df-convert {\n",
              "      background-color: #E8F0FE;\n",
              "      border: none;\n",
              "      border-radius: 50%;\n",
              "      cursor: pointer;\n",
              "      display: none;\n",
              "      fill: #1967D2;\n",
              "      height: 32px;\n",
              "      padding: 0 0 0 0;\n",
              "      width: 32px;\n",
              "    }\n",
              "\n",
              "    .colab-df-convert:hover {\n",
              "      background-color: #E2EBFA;\n",
              "      box-shadow: 0px 1px 2px rgba(60, 64, 67, 0.3), 0px 1px 3px 1px rgba(60, 64, 67, 0.15);\n",
              "      fill: #174EA6;\n",
              "    }\n",
              "\n",
              "    [theme=dark] .colab-df-convert {\n",
              "      background-color: #3B4455;\n",
              "      fill: #D2E3FC;\n",
              "    }\n",
              "\n",
              "    [theme=dark] .colab-df-convert:hover {\n",
              "      background-color: #434B5C;\n",
              "      box-shadow: 0px 1px 3px 1px rgba(0, 0, 0, 0.15);\n",
              "      filter: drop-shadow(0px 1px 2px rgba(0, 0, 0, 0.3));\n",
              "      fill: #FFFFFF;\n",
              "    }\n",
              "  </style>\n",
              "\n",
              "      <script>\n",
              "        const buttonEl =\n",
              "          document.querySelector('#df-95e369c1-de58-4dfb-a853-aa2846fa2176 button.colab-df-convert');\n",
              "        buttonEl.style.display =\n",
              "          google.colab.kernel.accessAllowed ? 'block' : 'none';\n",
              "\n",
              "        async function convertToInteractive(key) {\n",
              "          const element = document.querySelector('#df-95e369c1-de58-4dfb-a853-aa2846fa2176');\n",
              "          const dataTable =\n",
              "            await google.colab.kernel.invokeFunction('convertToInteractive',\n",
              "                                                     [key], {});\n",
              "          if (!dataTable) return;\n",
              "\n",
              "          const docLinkHtml = 'Like what you see? Visit the ' +\n",
              "            '<a target=\"_blank\" href=https://colab.research.google.com/notebooks/data_table.ipynb>data table notebook</a>'\n",
              "            + ' to learn more about interactive tables.';\n",
              "          element.innerHTML = '';\n",
              "          dataTable['output_type'] = 'display_data';\n",
              "          await google.colab.output.renderOutput(dataTable, element);\n",
              "          const docLink = document.createElement('div');\n",
              "          docLink.innerHTML = docLinkHtml;\n",
              "          element.appendChild(docLink);\n",
              "        }\n",
              "      </script>\n",
              "    </div>\n",
              "  </div>\n",
              "  "
            ],
            "text/plain": [
              "           Category  CategoryID\n",
              "91             tech           0\n",
              "1103       politics           1\n",
              "909        business           2\n",
              "561   entertainment           3\n",
              "980           sport           4"
            ]
          },
          "metadata": {},
          "execution_count": 72
        }
      ]
    },
    {
      "cell_type": "code",
      "source": [
        "# Step 2. Text cleanup.\n",
        "# Step2.1. Removing all tags.\n",
        "\n",
        "def remove_tags(text):\n",
        "  remove = re.compile(r'')\n",
        "  return re.sub(remove, '', text)\n",
        "\n",
        "# Step 2.2. Removing special Charachters.\n",
        "def special_char(text):\n",
        "  reviews = ''\n",
        "  for x in text:\n",
        "    if x.isalnum():\n",
        "      reviews = reviews + x\n",
        "    else:\n",
        "      reviews = reviews + ' '\n",
        "  return reviews\n",
        "\n",
        "# Step 2.3. Converting text to lower case.\n",
        "def convert_lower(text):\n",
        "   return text.lower()\n",
        "\n",
        "# Step 2.4. Removing all stop words.\n",
        "def remove_stopwords(text):\n",
        "  stop_words = set(stopwords.words('english'))\n",
        "  words = word_tokenize(text)\n",
        "  return [x for x in words if x not in stop_words]\n",
        "\n",
        "# Step 2.5. Lemmantize text..\n",
        "def lemmatize_word(text):\n",
        "  wordnet = WordNetLemmatizer()\n",
        "  return \" \".join([wordnet.lemmatize(word) for word in text])\n",
        "\n",
        "# Step 2.6. Apply all of the above steps to records.\n",
        "dataset['Text'] = dataset['Text'].apply(remove_tags).apply(special_char).apply(convert_lower)\n",
        "dataset['Text'] = dataset['Text'].apply(remove_stopwords).apply(lemmatize_word)\n",
        "\n",
        "#dataset['Text']"
      ],
      "metadata": {
        "colab": {
          "base_uri": "https://localhost:8080/"
        },
        "id": "nL7s9OZtPjdZ",
        "outputId": "6d58178a-925f-4f78-e7f9-275587c6b694"
      },
      "execution_count": 13,
      "outputs": [
        {
          "output_type": "execute_result",
          "data": {
            "text/plain": [
              "91      2d metal slug offer retro fun like drill serge...\n",
              "1103    blair stress prosperity goal tony blair say pa...\n",
              "909     weak dollar trim cadbury profit world biggest ...\n",
              "683     court reject 280bn tobacco case u government c...\n",
              "561     christmas song formula unveiled formula ultima...\n",
              "                              ...                        \n",
              "1087    blue slam blackburn savage birmingham confirme...\n",
              "1377    anti terror plan face first test plan allow ho...\n",
              "694     time get tough friendly international manager ...\n",
              "559     india unveils anti poverty budget india boost ...\n",
              "528     u bank loses customer detail bank america reve...\n",
              "Name: Text, Length: 100, dtype: object"
            ]
          },
          "metadata": {},
          "execution_count": 13
        }
      ]
    },
    {
      "cell_type": "code",
      "source": [
        "x = dataset['Text']\n",
        "y = dataset['CategoryID']\n",
        "\n",
        "\n",
        "# Step 3. Convert cleaned up texts into vectors using CountVectorizer...\n",
        "from sklearn.feature_extraction.text import CountVectorizer\n",
        "x = np.array(dataset.iloc[:,0].values)\n",
        "y = np.array(dataset.CategoryID.values)\n",
        "cv = CountVectorizer(max_features = 5000)\n",
        "x = cv.fit_transform(dataset.Text).toarray()\n",
        "print(\"X.shape = \",x.shape)\n",
        "print(\"y.shape = \",y.shape)"
      ],
      "metadata": {
        "colab": {
          "base_uri": "https://localhost:8080/"
        },
        "id": "F8iIntTjPzao",
        "outputId": "91f61e70-d105-4ebb-a141-9cb943f1578f"
      },
      "execution_count": 14,
      "outputs": [
        {
          "output_type": "stream",
          "name": "stdout",
          "text": [
            "X.shape =  (100, 5000)\n",
            "y.shape =  (100,)\n"
          ]
        }
      ]
    },
    {
      "cell_type": "code",
      "source": [
        "# Step 4. Split data into train and test subsets...\n",
        "from sklearn.model_selection import train_test_split\n",
        "x_train, x_test, y_train, y_test = train_test_split(x, y, test_size = 0.3, random_state = 0, shuffle = True)\n",
        "print(len(x_train))\n",
        "print(len(x_test))"
      ],
      "metadata": {
        "colab": {
          "base_uri": "https://localhost:8080/"
        },
        "id": "IYB8ihGqQJw_",
        "outputId": "ec7267cb-d209-44c6-df88-e4a3b5efe229"
      },
      "execution_count": 15,
      "outputs": [
        {
          "output_type": "stream",
          "name": "stdout",
          "text": [
            "70\n",
            "30\n"
          ]
        }
      ]
    },
    {
      "cell_type": "code",
      "source": [
        "# Step 5. Applying several regressors and testing them...\n",
        "#   ... in order to select the best model to apply prediction.\n",
        "\n",
        "perform_list = []\n",
        "\n",
        "def run_model(model_name, est_c, est_pnlty):\n",
        "  mdl=''\n",
        "  if model_name == 'Logistic Regression':\n",
        "    mdl = LogisticRegression()\n",
        "  elif model_name == 'Random Forest':\n",
        "    mdl = RandomForestClassifier(n_estimators=100 ,criterion='entropy' , random_state=0)\n",
        "  elif model_name == 'Multinomial Naive Bayes':\n",
        "    mdl = MultinomialNB(alpha=0.5,fit_prior=True)\n",
        "  elif model_name == 'Support Vector Classifer':\n",
        "    mdl = SVC()\n",
        "  elif model_name == 'Decision Tree Classifier':\n",
        "    mdl = DecisionTreeClassifier()\n",
        "  elif model_name == 'K Nearest Neighbour':\n",
        "    mdl = KNeighborsClassifier(n_neighbors=10 , metric= 'minkowski' , p = 4)\n",
        "  elif model_name == 'Gaussian Naive Bayes':\n",
        "    mdl = GaussianNB()\n",
        "\n",
        "  oneVsRest = OneVsRestClassifier(mdl)\n",
        "  oneVsRest.fit(x_train, y_train)\n",
        "  y_pred = oneVsRest.predict(x_test)\n",
        "\n",
        "  accuracy = round(accuracy_score(y_test, y_pred) * 100, 2)\n",
        "\n",
        "  precision, recall, f1score, support = score(y_test, y_pred, average='micro')\n",
        "\n",
        "  print(f'Test Accuracy Score of Basic {model_name}: % {accuracy}')\n",
        "  print(f'Precision : {precision}')\n",
        "  print(f'Recall : {recall}')\n",
        "  print(f'F1-score : {f1score}')\n",
        "\n",
        "  perform_list.append(dict([\n",
        "    ('Model', model_name),\n",
        "    ('Test Accuracy', round(accuracy, 2)),\n",
        "    ('Precision', round(precision, 2)),\n",
        "    ('Recall', round(recall, 2)),\n",
        "    ('F1', round(f1score, 2))\n",
        "  ]))"
      ],
      "metadata": {
        "id": "xeUefOItQRcV"
      },
      "execution_count": 43,
      "outputs": []
    },
    {
      "cell_type": "code",
      "source": [
        "mods = [\n",
        "        'Random Forest',\n",
        "        'Multinomial Naive Bayes',\n",
        "        'Support Vector Classifer',\n",
        "        'Decision Tree Classifier',\n",
        "        'Gaussian Naive Bayes'\n",
        "]\n",
        "\n",
        "for mod in mods:\n",
        "  run_model(mod, est_c=None, est_pnlty=None)\n",
        "  "
      ],
      "metadata": {
        "colab": {
          "base_uri": "https://localhost:8080/"
        },
        "id": "zqxpyLDlQWI_",
        "outputId": "deca2cf1-5dba-4460-ddd3-485eaa0b1721"
      },
      "execution_count": 44,
      "outputs": [
        {
          "output_type": "stream",
          "name": "stdout",
          "text": [
            "Test Accuracy Score of Basic Random Forest: % 70.0\n",
            "Precision : 0.7\n",
            "Recall : 0.7\n",
            "F1-score : 0.7\n",
            "Test Accuracy Score of Basic Multinomial Naive Bayes: % 96.67\n",
            "Precision : 0.9666666666666667\n",
            "Recall : 0.9666666666666667\n",
            "F1-score : 0.9666666666666667\n",
            "Test Accuracy Score of Basic Support Vector Classifer: % 60.0\n",
            "Precision : 0.6\n",
            "Recall : 0.6\n",
            "F1-score : 0.6\n",
            "Test Accuracy Score of Basic Decision Tree Classifier: % 23.33\n",
            "Precision : 0.23333333333333334\n",
            "Recall : 0.23333333333333334\n",
            "F1-score : 0.23333333333333334\n",
            "Test Accuracy Score of Basic Gaussian Naive Bayes: % 33.33\n",
            "Precision : 0.3333333333333333\n",
            "Recall : 0.3333333333333333\n",
            "F1-score : 0.3333333333333333\n"
          ]
        }
      ]
    },
    {
      "cell_type": "code",
      "source": [
        "model_performance = pd.DataFrame(data=perform_list)\n",
        "model_performance = model_performance[['Model', 'Test Accuracy', 'Precision', 'Recall', 'F1']]\n",
        "model_performance"
      ],
      "metadata": {
        "colab": {
          "base_uri": "https://localhost:8080/",
          "height": 206
        },
        "id": "3c66HV7KTaMR",
        "outputId": "85668216-ea23-4004-f7d1-5e6ead579b73"
      },
      "execution_count": 45,
      "outputs": [
        {
          "output_type": "execute_result",
          "data": {
            "text/html": [
              "\n",
              "  <div id=\"df-d5585947-8afc-4f56-9ded-70ddbaddc9fb\">\n",
              "    <div class=\"colab-df-container\">\n",
              "      <div>\n",
              "<style scoped>\n",
              "    .dataframe tbody tr th:only-of-type {\n",
              "        vertical-align: middle;\n",
              "    }\n",
              "\n",
              "    .dataframe tbody tr th {\n",
              "        vertical-align: top;\n",
              "    }\n",
              "\n",
              "    .dataframe thead th {\n",
              "        text-align: right;\n",
              "    }\n",
              "</style>\n",
              "<table border=\"1\" class=\"dataframe\">\n",
              "  <thead>\n",
              "    <tr style=\"text-align: right;\">\n",
              "      <th></th>\n",
              "      <th>Model</th>\n",
              "      <th>Test Accuracy</th>\n",
              "      <th>Precision</th>\n",
              "      <th>Recall</th>\n",
              "      <th>F1</th>\n",
              "    </tr>\n",
              "  </thead>\n",
              "  <tbody>\n",
              "    <tr>\n",
              "      <th>0</th>\n",
              "      <td>Random Forest</td>\n",
              "      <td>70.00</td>\n",
              "      <td>0.70</td>\n",
              "      <td>0.70</td>\n",
              "      <td>0.70</td>\n",
              "    </tr>\n",
              "    <tr>\n",
              "      <th>1</th>\n",
              "      <td>Multinomial Naive Bayes</td>\n",
              "      <td>96.67</td>\n",
              "      <td>0.97</td>\n",
              "      <td>0.97</td>\n",
              "      <td>0.97</td>\n",
              "    </tr>\n",
              "    <tr>\n",
              "      <th>2</th>\n",
              "      <td>Support Vector Classifer</td>\n",
              "      <td>60.00</td>\n",
              "      <td>0.60</td>\n",
              "      <td>0.60</td>\n",
              "      <td>0.60</td>\n",
              "    </tr>\n",
              "    <tr>\n",
              "      <th>3</th>\n",
              "      <td>Decision Tree Classifier</td>\n",
              "      <td>23.33</td>\n",
              "      <td>0.23</td>\n",
              "      <td>0.23</td>\n",
              "      <td>0.23</td>\n",
              "    </tr>\n",
              "    <tr>\n",
              "      <th>4</th>\n",
              "      <td>Gaussian Naive Bayes</td>\n",
              "      <td>33.33</td>\n",
              "      <td>0.33</td>\n",
              "      <td>0.33</td>\n",
              "      <td>0.33</td>\n",
              "    </tr>\n",
              "  </tbody>\n",
              "</table>\n",
              "</div>\n",
              "      <button class=\"colab-df-convert\" onclick=\"convertToInteractive('df-d5585947-8afc-4f56-9ded-70ddbaddc9fb')\"\n",
              "              title=\"Convert this dataframe to an interactive table.\"\n",
              "              style=\"display:none;\">\n",
              "        \n",
              "  <svg xmlns=\"http://www.w3.org/2000/svg\" height=\"24px\"viewBox=\"0 0 24 24\"\n",
              "       width=\"24px\">\n",
              "    <path d=\"M0 0h24v24H0V0z\" fill=\"none\"/>\n",
              "    <path d=\"M18.56 5.44l.94 2.06.94-2.06 2.06-.94-2.06-.94-.94-2.06-.94 2.06-2.06.94zm-11 1L8.5 8.5l.94-2.06 2.06-.94-2.06-.94L8.5 2.5l-.94 2.06-2.06.94zm10 10l.94 2.06.94-2.06 2.06-.94-2.06-.94-.94-2.06-.94 2.06-2.06.94z\"/><path d=\"M17.41 7.96l-1.37-1.37c-.4-.4-.92-.59-1.43-.59-.52 0-1.04.2-1.43.59L10.3 9.45l-7.72 7.72c-.78.78-.78 2.05 0 2.83L4 21.41c.39.39.9.59 1.41.59.51 0 1.02-.2 1.41-.59l7.78-7.78 2.81-2.81c.8-.78.8-2.07 0-2.86zM5.41 20L4 18.59l7.72-7.72 1.47 1.35L5.41 20z\"/>\n",
              "  </svg>\n",
              "      </button>\n",
              "      \n",
              "  <style>\n",
              "    .colab-df-container {\n",
              "      display:flex;\n",
              "      flex-wrap:wrap;\n",
              "      gap: 12px;\n",
              "    }\n",
              "\n",
              "    .colab-df-convert {\n",
              "      background-color: #E8F0FE;\n",
              "      border: none;\n",
              "      border-radius: 50%;\n",
              "      cursor: pointer;\n",
              "      display: none;\n",
              "      fill: #1967D2;\n",
              "      height: 32px;\n",
              "      padding: 0 0 0 0;\n",
              "      width: 32px;\n",
              "    }\n",
              "\n",
              "    .colab-df-convert:hover {\n",
              "      background-color: #E2EBFA;\n",
              "      box-shadow: 0px 1px 2px rgba(60, 64, 67, 0.3), 0px 1px 3px 1px rgba(60, 64, 67, 0.15);\n",
              "      fill: #174EA6;\n",
              "    }\n",
              "\n",
              "    [theme=dark] .colab-df-convert {\n",
              "      background-color: #3B4455;\n",
              "      fill: #D2E3FC;\n",
              "    }\n",
              "\n",
              "    [theme=dark] .colab-df-convert:hover {\n",
              "      background-color: #434B5C;\n",
              "      box-shadow: 0px 1px 3px 1px rgba(0, 0, 0, 0.15);\n",
              "      filter: drop-shadow(0px 1px 2px rgba(0, 0, 0, 0.3));\n",
              "      fill: #FFFFFF;\n",
              "    }\n",
              "  </style>\n",
              "\n",
              "      <script>\n",
              "        const buttonEl =\n",
              "          document.querySelector('#df-d5585947-8afc-4f56-9ded-70ddbaddc9fb button.colab-df-convert');\n",
              "        buttonEl.style.display =\n",
              "          google.colab.kernel.accessAllowed ? 'block' : 'none';\n",
              "\n",
              "        async function convertToInteractive(key) {\n",
              "          const element = document.querySelector('#df-d5585947-8afc-4f56-9ded-70ddbaddc9fb');\n",
              "          const dataTable =\n",
              "            await google.colab.kernel.invokeFunction('convertToInteractive',\n",
              "                                                     [key], {});\n",
              "          if (!dataTable) return;\n",
              "\n",
              "          const docLinkHtml = 'Like what you see? Visit the ' +\n",
              "            '<a target=\"_blank\" href=https://colab.research.google.com/notebooks/data_table.ipynb>data table notebook</a>'\n",
              "            + ' to learn more about interactive tables.';\n",
              "          element.innerHTML = '';\n",
              "          dataTable['output_type'] = 'display_data';\n",
              "          await google.colab.output.renderOutput(dataTable, element);\n",
              "          const docLink = document.createElement('div');\n",
              "          docLink.innerHTML = docLinkHtml;\n",
              "          element.appendChild(docLink);\n",
              "        }\n",
              "      </script>\n",
              "    </div>\n",
              "  </div>\n",
              "  "
            ],
            "text/plain": [
              "                      Model  Test Accuracy  Precision  Recall    F1\n",
              "0             Random Forest          70.00       0.70    0.70  0.70\n",
              "1   Multinomial Naive Bayes          96.67       0.97    0.97  0.97\n",
              "2  Support Vector Classifer          60.00       0.60    0.60  0.60\n",
              "3  Decision Tree Classifier          23.33       0.23    0.23  0.23\n",
              "4      Gaussian Naive Bayes          33.33       0.33    0.33  0.33"
            ]
          },
          "metadata": {},
          "execution_count": 45
        }
      ]
    },
    {
      "cell_type": "markdown",
      "source": [
        "It was found above that **Multinomial Naive Bayez** classifyer has higher accuracy than otehr classifyers at *alpha = 0.5*. It was noticed that when *alpha > 0.5* accuracy was significantly lower and prediction errors were noticed."
      ],
      "metadata": {
        "id": "ZVHy3b7AaYor"
      }
    },
    {
      "cell_type": "code",
      "source": [
        "MNB = MultinomialNB(alpha=0.5,fit_prior=True)\n",
        "MNB.fit(x_train, y_train)\n",
        "def Get_prediction(article):\n",
        "  pred = cv.transform([article])\n",
        "  score = MNB.predict(pred)\n",
        "  result = \"\"\n",
        "  if score == [0]:\n",
        "    result = \"Tech\"\n",
        "  elif score == [1]:\n",
        "    result = \"Politics\"\n",
        "  elif score == [2]:\n",
        "    result = \"Business\"\n",
        "  elif score == [3]:\n",
        "    result = \"Entertainment\"\n",
        "  elif score == [4]:\n",
        "    result = \"Sports\"\n",
        "  return (result, score)"
      ],
      "metadata": {
        "id": "2_L0H2D2TbwB"
      },
      "execution_count": 73,
      "outputs": []
    },
    {
      "cell_type": "code",
      "source": [
        "article = \"\"\"\n",
        "In a phone call late on Thursday, the Russian president said such sanctions would be a \"colossal mistake\".\n",
        "\n",
        "Mr Biden, meanwhile, told Mr Putin that the US and its allies would respond decisively to any invasion of Ukraine.\n",
        "\n",
        "The call, requested by Russia, was the pair's second such conversation this month and lasted for almost an hour.\n",
        "\n",
        "It marked the latest effort to defuse tensions over Ukraine's eastern border with Russia, where Ukrainian officials say more than 100,000 Russian troops have been sent.\n",
        "\n",
        "The build-up has prompted concern in the West, with the US threatening Mr Putin with sanctions \"like none he's ever seen\" if Ukraine comes under attack.\n",
        "\n",
        "Russia, however, denies it is planning to invade the country and says the troops are there for exercises. It says it is entitled to move its troops freely on its own soil.\n",
        "\n",
        "Although the two sides exchanged warnings during the call, Russian foreign policy adviser Yuri Ushakov told reporters shortly after that Mr Putin was \"pleased\" with the conversation. He added that it had created a \"good backdrop\" for future talks.\n",
        "\n",
        "A senior US official, who spoke on condition of anonymity, said the tone had been \"serious and substantive.\"\n",
        "\n",
        "\"President Biden reiterated that substantive progress in these dialogues can occur only in an environment of de-escalation,\" White House Press Secretary Jen Psaki said.\n",
        "\n",
        "\"He made clear that the United States and its allies and partners will respond decisively if Russia further invades Ukraine,\" she added.\n",
        "\n",
        "US and Russian officials are set to meet for in-person talks in Geneva next month, and the White House said Mr Biden urged his Russian counterpart to pursue a diplomatic solution.\n",
        "\n",
        "In a holiday message before Thursday's call, Mr Putin told Mr Biden he was \"convinced\" the pair could work together based on \"mutual respect and consideration of each other's national interests\".\n",
        "\n",
        "His spokesman, Dmitry Peskov, said Moscow was \"in the mood for a conversation\".\"\"\"\n"
      ],
      "metadata": {
        "id": "88u8o-wGUQHY"
      },
      "execution_count": 60,
      "outputs": []
    },
    {
      "cell_type": "code",
      "source": [
        "res = Get_prediction(article)\n",
        "print(res)"
      ],
      "metadata": {
        "colab": {
          "base_uri": "https://localhost:8080/"
        },
        "id": "9A0t82GVUUO2",
        "outputId": "b828c2a9-272c-494d-8799-92fb85e3d404"
      },
      "execution_count": 61,
      "outputs": [
        {
          "output_type": "stream",
          "name": "stdout",
          "text": [
            "('Politics', array([1]))\n"
          ]
        }
      ]
    },
    {
      "cell_type": "code",
      "source": [
        "buss = \"\"\"\n",
        "The electric vehicle firm announced it was recalling 356,309 vehicles because of potential rear-view camera issues affecting 2017-2020 Model 3 Teslas.\n",
        "\n",
        "A further 119,009 Model S vehicles will also be recalled because of potential problems with the front trunk, or boot.\n",
        "\n",
        "The total recall figure is almost equivalent to the 500,000 cars Tesla delivered last year, Reuters reports.\n",
        "\n",
        "The BBC has approached Tesla for comment.\n",
        "\n",
        "A safety report, submitted this month, estimates that around 1% of recalled Model 3s may have a defective rear-view camera.\n",
        "\n",
        "Over time \"repeated opening and closing of the trunk lid\" may cause excessive wear to a cable that provides the rear-view camera feed, says a Safety Recall report submitted by Tesla to the National Highway Traffic Safety Administration (NHTSA) in the US on the 21 December.\n",
        "\n",
        "If the wear causes the core of the cable to separate \"the rear-view camera feed is not visible on the centre display\", the report notes.\n",
        "\n",
        "The loss of the review camera display may \"increase the risk of collision\", it adds.\n",
        "\n",
        "The Model S recall involves vehicles manufactured between 2014-2021, some of which may have a problem with a \"secondary latch\" on the front trunk, or boot.\n",
        "\n",
        "In another Safety Recall report, also filed on 21 December, Tesla notes the fault could mean, if the primary latch is inadvertently released, the front trunk \"may open without warning and obstruct the driver's visibility, increasing the risk of a crash\".\n",
        "\n",
        "Around 14% of recalled Model S's may have the defect, the report notes.\n",
        "\n",
        "In both cases, the reports state that \"Tesla is not aware of any crashes, injuries, or deaths\" relating to the potential faults.\"\"\"\n",
        "\n",
        "res = Get_prediction(buss)\n",
        "print(res)"
      ],
      "metadata": {
        "colab": {
          "base_uri": "https://localhost:8080/"
        },
        "id": "e-F1qIBbUZaI",
        "outputId": "df718d5f-4b44-4e40-b2b5-affb11267691"
      },
      "execution_count": 62,
      "outputs": [
        {
          "output_type": "stream",
          "name": "stdout",
          "text": [
            "('Tech', array([0]))\n"
          ]
        }
      ]
    },
    {
      "cell_type": "code",
      "source": [
        "entertainment = \"\"\"\n",
        "Rupert Grint absolutely loves being a dad. The 33-year-old actor touched on how fatherhood has changed him while promoting season 3 of his Apple TV+ show, Servant. From M. Night Shyamalan, the thriller follows a mourning Philadelphia couple whose marriage is up in the air after an unspeakable tragedy. The rift then opens the door for a mysterious force to enter their home.\n",
        "\n",
        "\"[Fatherhood], it's definitely changed my perspective,\" Grint told ET's Lauren Zima, before touching on the show's theme of how far a person would go for their child. \"Since becoming a dad, kind of midway through, just to really have a better sense of what that can do to a family, that kind of level of loss is unimaginable. And yeah, I mean, it's quite hard for me to kind of really completely face that directly. I just find it just incredible.\"\n",
        "\n",
        "\"It's a weird place to be, especially when Wednesday first came. I remember I brought her to the set this season,\" he continued. \"She thought she was at Sesame Street, which was very far away from Sesame Street. But yeah, it's really interesting.\"\"\"\n",
        "\n",
        "res = Get_prediction(entertainment)\n",
        "print(res)"
      ],
      "metadata": {
        "colab": {
          "base_uri": "https://localhost:8080/"
        },
        "id": "s4C-uBkkUr5y",
        "outputId": "2842de65-9c26-434a-8a6e-bc7f9abcd90f"
      },
      "execution_count": 63,
      "outputs": [
        {
          "output_type": "stream",
          "name": "stdout",
          "text": [
            "('Entertainment', array([3]))\n"
          ]
        }
      ]
    },
    {
      "cell_type": "code",
      "source": [
        "ent = \"\"\"\n",
        "Clearly a burgeoning talent, she took over the reins of the TV show in the early 1950s, and was subsequently nominated for her first Emmy Award for best TV actress in 1951. It was the new awards' first ever category to recognise the achievements of women on the box.\n",
        "\n",
        "Next came the TV sitcom Life with Elizabeth - a show she launched herself, alongside George Tibbles. \"He wrote and I produced,\" she explained. \"I was one of the first women producers in Hollywood.\"\n",
        "\n",
        "White kept her profile high with many chat show appearances, and met her third husband (and \"love of my life\") Allen Ludden on the game show Password in 1961. The couple were married from 1963 until Ludden's death in 1981.\"\"\"\n",
        "\n",
        "res = Get_prediction(ent)\n",
        "print(res)"
      ],
      "metadata": {
        "colab": {
          "base_uri": "https://localhost:8080/"
        },
        "id": "CAEgQf_YU9Sa",
        "outputId": "d9b3ae5d-a960-4cc4-e013-559380e6a886"
      },
      "execution_count": 64,
      "outputs": [
        {
          "output_type": "stream",
          "name": "stdout",
          "text": [
            "('Entertainment', array([3]))\n"
          ]
        }
      ]
    },
    {
      "cell_type": "code",
      "source": [
        "sprt = \"\"\"\n",
        "Brown, whose previous best was 46 against the New York Knicks in October, scored 21 points in the fourth quarter.\n",
        "\n",
        "It helped the Celtics come from 14 points down with four minutes and 20 seconds left in regulation time.\n",
        "\n",
        "He started overtime with his fifth three-pointer of the game, and also had 11 rebounds and four assists.\n",
        "\n",
        "\"I was just trying to be aggressive the entire time,\" he said.\n",
        "\n",
        "\"My team-mates encouraged me to take the shots. I feel like I took some good looks and they went down tonight.\"\n",
        "\n",
        "Brown's layup with 38 seconds left in regulation levelled the score at 98-98 and he scored again to put Boston up 100-98 with 30 seconds left, but Tim Frazier scored for Orlando to force overtime.\n",
        "\n",
        "Both teams were missing their leading scorers with Orlando's Cole Anthony sidelined by a sprained ankle while Boston's Jayson Tatum missed a fourth straight game because of Covid-19 concerns.\n",
        "\n",
        "Elsewhere, Dallas Mavericks star Luka Doncic marked his return from a 10-game absence with 14 points, 10 assists and nine rebounds in their 95-86 away victory over the Oklahoma City Thunder.\n",
        "\n",
        "The 22-year-old had missed five games with an ankle injury and then five more because of Covid.\n",
        "\n",
        "\"My chest was burning,\" said the Slovenian, who played 31 minutes on his comeback. \"It was a weird feeling, but happy. Very happy.\"\n",
        "\n",
        "Thunder rookie Josh Giddey became the youngest NBA player to post a triple-double with 17 points, 14 assists and 13 rebounds.\n",
        "\n",
        "Aged 19 years and 84 days, Giddey surpassed LaMelo Ball's record of 19 years and 140 days, and also came up with four steals in his first game back after missing the last three for Covid reasons.\n",
        "\"\"\"\n",
        "\n",
        "res = Get_prediction(sprt)\n",
        "print(res)"
      ],
      "metadata": {
        "colab": {
          "base_uri": "https://localhost:8080/"
        },
        "id": "nrR1GPt6WHfe",
        "outputId": "930e5b60-aa78-4b06-b801-d90732171144"
      },
      "execution_count": 65,
      "outputs": [
        {
          "output_type": "stream",
          "name": "stdout",
          "text": [
            "('Sports', array([4]))\n"
          ]
        }
      ]
    },
    {
      "cell_type": "code",
      "source": [
        "debt=\"\"\"\n",
        "The statement to the stock exchange did not give a reason for the trading halt.\n",
        "\n",
        "Evergrande has more than $300bn (£222bn) of debt and is scrambling to raise cash by selling assets and shares to repay suppliers and creditors.\n",
        "\n",
        "Last week, the company dialled back plans to repay investors in its wealth management products.\n",
        "\n",
        "Evergrande said on Friday that each investor in its wealth management product could expect to receive $1,257 each month as principal payment for three months irrespective of when the investment matures.\n",
        "\n",
        "The company had earlier not mentioned any amount and had agreed to repay 10% of the investment by the end of the month when the product matures.\n",
        "\n",
        "Evergrande said in a statement posted on the wealth unit's website that the situation was not \"ideal\" and that it would \"actively raise funds\", and update the repayment plan in late March, without giving further details.\n",
        "\n",
        "The announcement was seen as highlighting the deepening cash squeeze at the struggling property developer.\n",
        "\n",
        "Last week, Evergrande did not make some interest payments on its offshore bonds.\n",
        "\n",
        "Over the weekend, local media reported that a city government on the Chinese resort island of Hainan had ordered the company on 30 December to demolish its 39 residential buildings there within 10 days, as they were built illegally.\n",
        "\n",
        "Evergrande has yet to comment on the reports.\n",
        "\n",
        "The company's $19bn in international bonds were deemed to be in default by rating agencies after it missed a payment deadline last month.\n",
        "\"\"\"\n",
        "res = Get_prediction(debt)\n",
        "print(res)"
      ],
      "metadata": {
        "colab": {
          "base_uri": "https://localhost:8080/"
        },
        "id": "lcAXG2MKWlLv",
        "outputId": "f50958a2-4a42-41f9-acd7-a8ec4b7c21d3"
      },
      "execution_count": 66,
      "outputs": [
        {
          "output_type": "stream",
          "name": "stdout",
          "text": [
            "('Business', array([2]))\n"
          ]
        }
      ]
    },
    {
      "cell_type": "code",
      "source": [
        "ttt = \"\"\"\n",
        "The Biden administration wants to extend the life of the International Space Station to 2030, keeping it aloft despite mounting tensions with Russia, its main partner on the orbiting laboratory.\n",
        "\n",
        "The announcement by NASA on Friday comes a day after Russian President Vladimir Putin warned that any new sanctions stemming from the growing crisis in Ukraine could lead to “a complete rupture of relations.” And last month, Russia fired a missile that destroyed an inactive weather satellite and created a large field of more than 1,500 pieces of debris that threatened the space station as well as a host of other satellites.\n",
        "\n",
        "While the act was condemned by the Biden administration, and NASA Administrator Bill Nelson called it “reckless and dangerous,” Nelson also said the attack was an act of the Russian military that surprised the Russian space agency.\n",
        "\"\"\"\n",
        "\n",
        "res = Get_prediction(ttt)\n",
        "print(res)\n",
        "\n",
        "# The above mentioned text was copied from a Tech Article from CNN news website. Despite the article was classified as \"Tech\" by CNN, the classifyer...\n",
        "# Predicted it to be \"Business\". While reading the text, it appeared that it does not have any keywords associated with Tech what so ever, \n",
        "# and expressions and terminologies in it were a mash-up of ideas that were more political and businessy than technological...\n",
        "# As such, the Classifyer works."
      ],
      "metadata": {
        "colab": {
          "base_uri": "https://localhost:8080/"
        },
        "id": "hbHroE3RXBzf",
        "outputId": "3ceced9a-c7fb-49ae-a987-37c4aea69dbb"
      },
      "execution_count": 75,
      "outputs": [
        {
          "output_type": "stream",
          "name": "stdout",
          "text": [
            "('Business', array([2]))\n"
          ]
        }
      ]
    },
    {
      "cell_type": "code",
      "source": [
        ""
      ],
      "metadata": {
        "id": "nf2msEKjbLH4"
      },
      "execution_count": null,
      "outputs": []
    }
  ]
}